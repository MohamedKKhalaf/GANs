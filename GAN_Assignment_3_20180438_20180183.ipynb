{
  "nbformat": 4,
  "nbformat_minor": 0,
  "metadata": {
    "accelerator": "GPU",
    "colab": {
      "provenance": [],
      "include_colab_link": true
    },
    "kernelspec": {
      "display_name": "Python 3",
      "name": "python3"
    },
    "language_info": {
      "name": "python"
    }
  },
  "cells": [
    {
      "cell_type": "markdown",
      "metadata": {
        "id": "view-in-github",
        "colab_type": "text"
      },
      "source": [
        "<a href=\"https://colab.research.google.com/github/MohamedKKhalaf/GANs/blob/main/GAN_Assignment_3_20180438_20180183.ipynb\" target=\"_parent\"><img src=\"https://colab.research.google.com/assets/colab-badge.svg\" alt=\"Open In Colab\"/></a>"
      ]
    },
    {
      "cell_type": "code",
      "metadata": {
        "id": "h6yfzPVTI4yQ"
      },
      "source": [
        "import keras\n",
        "from keras import layers"
      ],
      "execution_count": null,
      "outputs": []
    },
    {
      "cell_type": "code",
      "metadata": {
        "colab": {
          "base_uri": "https://localhost:8080/"
        },
        "id": "Z4t-vcyuI7HY",
        "outputId": "112aebfc-284d-4c93-c2dc-e1f365532f11"
      },
      "source": [
        "input_img = keras.Input(shape=(28, 28, 1))\n",
        "\n",
        "#Encoder Network\n",
        "x = layers.Conv2D(16, (3, 3), activation='relu', padding='same')(input_img)\n",
        "x = layers.MaxPooling2D((2, 2), padding='same')(x)\n",
        "x = layers.Conv2D(8, (3, 3), activation='relu', padding='same')(x)\n",
        "x = layers.MaxPooling2D((2, 2), padding='same')(x)\n",
        "x = layers.Conv2D(8, (3, 3), activation='relu', padding='same')(x)\n",
        "##\n",
        "encoded = layers.MaxPooling2D((2, 2), padding='same')(x)\n",
        "\n",
        "#Decoder Network\n",
        "x = layers.Conv2D(8, (3, 3), activation='relu', padding='same')(encoded)\n",
        "x = layers.UpSampling2D((2, 2))(x)\n",
        "x = layers.Conv2D(8, (3, 3), activation='relu', padding='same')(x)\n",
        "x = layers.UpSampling2D((2, 2))(x)\n",
        "x = layers.Conv2D(16, (3, 3), activation='relu')(x)\n",
        "x = layers.UpSampling2D((2, 2))(x)\n",
        "decoded = layers.Conv2D(1, (3, 3), activation='sigmoid', padding='same')(x)\n",
        "\n",
        "# Autoencoder\n",
        "autoencoder = keras.Model(input_img, decoded)\n",
        "autoencoder.compile(optimizer=\"adam\", loss=\"binary_crossentropy\")\n",
        "autoencoder.summary()"
      ],
      "execution_count": null,
      "outputs": [
        {
          "output_type": "stream",
          "name": "stdout",
          "text": [
            "Model: \"model\"\n",
            "_________________________________________________________________\n",
            " Layer (type)                Output Shape              Param #   \n",
            "=================================================================\n",
            " input_1 (InputLayer)        [(None, 28, 28, 1)]       0         \n",
            "                                                                 \n",
            " conv2d (Conv2D)             (None, 28, 28, 16)        160       \n",
            "                                                                 \n",
            " max_pooling2d (MaxPooling2D  (None, 14, 14, 16)       0         \n",
            " )                                                               \n",
            "                                                                 \n",
            " conv2d_1 (Conv2D)           (None, 14, 14, 8)         1160      \n",
            "                                                                 \n",
            " max_pooling2d_1 (MaxPooling  (None, 7, 7, 8)          0         \n",
            " 2D)                                                             \n",
            "                                                                 \n",
            " conv2d_2 (Conv2D)           (None, 7, 7, 8)           584       \n",
            "                                                                 \n",
            " max_pooling2d_2 (MaxPooling  (None, 4, 4, 8)          0         \n",
            " 2D)                                                             \n",
            "                                                                 \n",
            " conv2d_3 (Conv2D)           (None, 4, 4, 8)           584       \n",
            "                                                                 \n",
            " up_sampling2d (UpSampling2D  (None, 8, 8, 8)          0         \n",
            " )                                                               \n",
            "                                                                 \n",
            " conv2d_4 (Conv2D)           (None, 8, 8, 8)           584       \n",
            "                                                                 \n",
            " up_sampling2d_1 (UpSampling  (None, 16, 16, 8)        0         \n",
            " 2D)                                                             \n",
            "                                                                 \n",
            " conv2d_5 (Conv2D)           (None, 14, 14, 16)        1168      \n",
            "                                                                 \n",
            " up_sampling2d_2 (UpSampling  (None, 28, 28, 16)       0         \n",
            " 2D)                                                             \n",
            "                                                                 \n",
            " conv2d_6 (Conv2D)           (None, 28, 28, 1)         145       \n",
            "                                                                 \n",
            "=================================================================\n",
            "Total params: 4,385\n",
            "Trainable params: 4,385\n",
            "Non-trainable params: 0\n",
            "_________________________________________________________________\n"
          ]
        }
      ]
    },
    {
      "cell_type": "code",
      "metadata": {
        "id": "kxvdsSQ_JBco"
      },
      "source": [
        "from keras.datasets import mnist\n",
        "import numpy as np"
      ],
      "execution_count": null,
      "outputs": []
    },
    {
      "cell_type": "code",
      "metadata": {
        "colab": {
          "base_uri": "https://localhost:8080/"
        },
        "id": "-AJxrhcxJFja",
        "outputId": "9567b581-d73c-4887-99ca-65494751a1d0"
      },
      "source": [
        "from keras.callbacks import TensorBoard\n",
        "(x_train, _), (x_test, _) = mnist.load_data()\n",
        "\n",
        "x_train = x_train.astype('float32') / 255.\n",
        "x_test = x_test.astype('float32') / 255.\n",
        "x_train = np.reshape(x_train, (len(x_train), 28, 28, 1))\n",
        "x_test = np.reshape(x_test, (len(x_test), 28, 28, 1))\n",
        "\n",
        "autoencoder.fit(x_train, x_train,\n",
        "                epochs=50,\n",
        "                batch_size=128,\n",
        "                shuffle=True,\n",
        "                validation_data=(x_test, x_test))"
      ],
      "execution_count": null,
      "outputs": [
        {
          "output_type": "stream",
          "name": "stdout",
          "text": [
            "Epoch 1/50\n",
            "469/469 [==============================] - 6s 13ms/step - loss: 0.0984 - val_loss: 0.0970\n",
            "Epoch 2/50\n",
            "469/469 [==============================] - 6s 12ms/step - loss: 0.0980 - val_loss: 0.0965\n",
            "Epoch 3/50\n",
            "469/469 [==============================] - 6s 12ms/step - loss: 0.0977 - val_loss: 0.0962\n",
            "Epoch 4/50\n",
            "469/469 [==============================] - 6s 12ms/step - loss: 0.0974 - val_loss: 0.0959\n",
            "Epoch 5/50\n",
            "469/469 [==============================] - 6s 12ms/step - loss: 0.0971 - val_loss: 0.0959\n",
            "Epoch 6/50\n",
            "469/469 [==============================] - 6s 13ms/step - loss: 0.0968 - val_loss: 0.0951\n",
            "Epoch 7/50\n",
            "469/469 [==============================] - 6s 12ms/step - loss: 0.0965 - val_loss: 0.0949\n",
            "Epoch 8/50\n",
            "469/469 [==============================] - 6s 12ms/step - loss: 0.0963 - val_loss: 0.0956\n",
            "Epoch 9/50\n",
            "469/469 [==============================] - 6s 12ms/step - loss: 0.0960 - val_loss: 0.0948\n",
            "Epoch 10/50\n",
            "469/469 [==============================] - 6s 12ms/step - loss: 0.0958 - val_loss: 0.0942\n",
            "Epoch 11/50\n",
            "469/469 [==============================] - 6s 12ms/step - loss: 0.0955 - val_loss: 0.0941\n",
            "Epoch 12/50\n",
            "469/469 [==============================] - 6s 12ms/step - loss: 0.0953 - val_loss: 0.0942\n",
            "Epoch 13/50\n",
            "469/469 [==============================] - 6s 12ms/step - loss: 0.0952 - val_loss: 0.0936\n",
            "Epoch 14/50\n",
            "469/469 [==============================] - 6s 12ms/step - loss: 0.0949 - val_loss: 0.0934\n",
            "Epoch 15/50\n",
            "469/469 [==============================] - 6s 12ms/step - loss: 0.0947 - val_loss: 0.0932\n",
            "Epoch 16/50\n",
            "469/469 [==============================] - 6s 12ms/step - loss: 0.0946 - val_loss: 0.0937\n",
            "Epoch 17/50\n",
            "469/469 [==============================] - 6s 12ms/step - loss: 0.0944 - val_loss: 0.0929\n",
            "Epoch 18/50\n",
            "469/469 [==============================] - 6s 12ms/step - loss: 0.0942 - val_loss: 0.0933\n",
            "Epoch 19/50\n",
            "469/469 [==============================] - 6s 12ms/step - loss: 0.0940 - val_loss: 0.0928\n",
            "Epoch 20/50\n",
            "469/469 [==============================] - 6s 12ms/step - loss: 0.0939 - val_loss: 0.0927\n",
            "Epoch 21/50\n",
            "469/469 [==============================] - 6s 12ms/step - loss: 0.0938 - val_loss: 0.0923\n",
            "Epoch 22/50\n",
            "469/469 [==============================] - 6s 12ms/step - loss: 0.0936 - val_loss: 0.0922\n",
            "Epoch 23/50\n",
            "469/469 [==============================] - 6s 12ms/step - loss: 0.0935 - val_loss: 0.0920\n",
            "Epoch 24/50\n",
            "469/469 [==============================] - 6s 12ms/step - loss: 0.0933 - val_loss: 0.0924\n",
            "Epoch 25/50\n",
            "469/469 [==============================] - 6s 12ms/step - loss: 0.0932 - val_loss: 0.0918\n",
            "Epoch 26/50\n",
            "469/469 [==============================] - 6s 12ms/step - loss: 0.0931 - val_loss: 0.0923\n",
            "Epoch 27/50\n",
            "469/469 [==============================] - 6s 12ms/step - loss: 0.0930 - val_loss: 0.0917\n",
            "Epoch 28/50\n",
            "469/469 [==============================] - 6s 12ms/step - loss: 0.0929 - val_loss: 0.0916\n",
            "Epoch 29/50\n",
            "469/469 [==============================] - 6s 12ms/step - loss: 0.0928 - val_loss: 0.0921\n",
            "Epoch 30/50\n",
            "469/469 [==============================] - 6s 12ms/step - loss: 0.0927 - val_loss: 0.0919\n",
            "Epoch 31/50\n",
            "469/469 [==============================] - 6s 12ms/step - loss: 0.0926 - val_loss: 0.0913\n",
            "Epoch 32/50\n",
            "469/469 [==============================] - 6s 12ms/step - loss: 0.0925 - val_loss: 0.0916\n",
            "Epoch 33/50\n",
            "469/469 [==============================] - 6s 12ms/step - loss: 0.0924 - val_loss: 0.0911\n",
            "Epoch 34/50\n",
            "469/469 [==============================] - 6s 12ms/step - loss: 0.0924 - val_loss: 0.0914\n",
            "Epoch 35/50\n",
            "469/469 [==============================] - 6s 12ms/step - loss: 0.0922 - val_loss: 0.0911\n",
            "Epoch 36/50\n",
            "469/469 [==============================] - 6s 12ms/step - loss: 0.0921 - val_loss: 0.0913\n",
            "Epoch 37/50\n",
            "469/469 [==============================] - 6s 12ms/step - loss: 0.0922 - val_loss: 0.0907\n",
            "Epoch 38/50\n",
            "469/469 [==============================] - 6s 12ms/step - loss: 0.0920 - val_loss: 0.0912\n",
            "Epoch 39/50\n",
            "469/469 [==============================] - 6s 12ms/step - loss: 0.0919 - val_loss: 0.0907\n",
            "Epoch 40/50\n",
            "469/469 [==============================] - 6s 12ms/step - loss: 0.0919 - val_loss: 0.0918\n",
            "Epoch 41/50\n",
            "469/469 [==============================] - 6s 12ms/step - loss: 0.0918 - val_loss: 0.0904\n",
            "Epoch 42/50\n",
            "469/469 [==============================] - 6s 12ms/step - loss: 0.0917 - val_loss: 0.0903\n",
            "Epoch 43/50\n",
            "469/469 [==============================] - 6s 12ms/step - loss: 0.0916 - val_loss: 0.0904\n",
            "Epoch 44/50\n",
            "469/469 [==============================] - 6s 12ms/step - loss: 0.0915 - val_loss: 0.0907\n",
            "Epoch 45/50\n",
            "469/469 [==============================] - 6s 12ms/step - loss: 0.0915 - val_loss: 0.0905\n",
            "Epoch 46/50\n",
            "469/469 [==============================] - 6s 12ms/step - loss: 0.0914 - val_loss: 0.0907\n",
            "Epoch 47/50\n",
            "469/469 [==============================] - 6s 12ms/step - loss: 0.0913 - val_loss: 0.0900\n",
            "Epoch 48/50\n",
            "469/469 [==============================] - 6s 12ms/step - loss: 0.0912 - val_loss: 0.0903\n",
            "Epoch 49/50\n",
            "469/469 [==============================] - 6s 12ms/step - loss: 0.0913 - val_loss: 0.0899\n",
            "Epoch 50/50\n",
            "469/469 [==============================] - 6s 12ms/step - loss: 0.0912 - val_loss: 0.0901\n"
          ]
        },
        {
          "output_type": "execute_result",
          "data": {
            "text/plain": [
              "<keras.callbacks.History at 0x7ff7af15cb50>"
            ]
          },
          "metadata": {},
          "execution_count": 23
        }
      ]
    },
    {
      "cell_type": "code",
      "metadata": {
        "id": "2268s95TJLAp"
      },
      "source": [
        "decoded_imgs = autoencoder.predict(x_test)"
      ],
      "execution_count": null,
      "outputs": []
    },
    {
      "cell_type": "code",
      "metadata": {
        "id": "G6NHzemDJNgg"
      },
      "source": [
        "import matplotlib.pyplot as plt"
      ],
      "execution_count": null,
      "outputs": []
    },
    {
      "cell_type": "code",
      "metadata": {
        "colab": {
          "base_uri": "https://localhost:8080/",
          "height": 248
        },
        "id": "g2mQ5G4zJQca",
        "outputId": "2be5aeba-1123-4d5d-e0b5-1af4c659d6b1"
      },
      "source": [
        "n = 10\n",
        "plt.figure(figsize=(20, 4))\n",
        "for i in range(1, n + 1):\n",
        "    # Display original\n",
        "    ax = plt.subplot(2, n, i)\n",
        "    plt.imshow(x_test[i].reshape(28, 28))\n",
        "    plt.gray()\n",
        "    ax.get_xaxis().set_visible(False)\n",
        "    ax.get_yaxis().set_visible(False)\n",
        "\n",
        "    # Display reconstruction\n",
        "    ax = plt.subplot(2, n, i + n)\n",
        "    plt.imshow(decoded_imgs[i].reshape(28, 28))\n",
        "    plt.gray()\n",
        "    ax.get_xaxis().set_visible(False)\n",
        "    ax.get_yaxis().set_visible(False)\n",
        "plt.show()"
      ],
      "execution_count": null,
      "outputs": [
        {
          "output_type": "display_data",
          "data": {
            "image/png": "[encoded data removed]",
            "text/plain": [
              "<Figure size 1440x288 with 20 Axes>"
            ]
          },
          "metadata": {
            "needs_background": "light"
          }
        }
      ]
    },
    {
      "cell_type": "code",
      "metadata": {
        "colab": {
          "base_uri": "https://localhost:8080/"
        },
        "id": "iMWE88-pJUFh",
        "outputId": "93082174-20e0-4455-b325-6ff1a16f92eb"
      },
      "source": [
        "encoder = keras.Model(input_img, encoded)\n",
        "encoded_imgs = encoder.predict(x_test)\n",
        "\n",
        "print (encoded_imgs.shape)"
      ],
      "execution_count": null,
      "outputs": [
        {
          "output_type": "stream",
          "name": "stdout",
          "text": [
            "(10000, 4, 4, 8)\n"
          ]
        }
      ]
    },
    {
      "cell_type": "code",
      "metadata": {
        "colab": {
          "base_uri": "https://localhost:8080/",
          "height": 129
        },
        "id": "U7GFtCINJWWg",
        "outputId": "a0f5abb9-0285-487e-affb-218c3a41b55c"
      },
      "source": [
        "n = 10\n",
        "plt.figure(figsize=(20, 8))\n",
        "for i in range(1, n + 1):\n",
        "    ax = plt.subplot(1, n, i)\n",
        "    plt.imshow(encoded_imgs[i,:,:,4].reshape((4 , 4)))\n",
        "    plt.gray()\n",
        "    ax.get_xaxis().set_visible(False)\n",
        "    ax.get_yaxis().set_visible(False)\n",
        "plt.show()"
      ],
      "execution_count": null,
      "outputs": [
        {
          "output_type": "display_data",
          "data": {
            "image/png": "[encoded data removed]",
            "text/plain": [
              "<Figure size 1440x576 with 10 Axes>"
            ]
          },
          "metadata": {
            "needs_background": "light"
          }
        }
      ]
    },
    {
      "cell_type": "code",
      "metadata": {
        "colab": {
          "base_uri": "https://localhost:8080/",
          "height": 129
        },
        "id": "OtyTfX03p6kn",
        "outputId": "b5d29635-8b24-4ac1-e9c6-000cc74ee379"
      },
      "source": [
        "import random\n",
        "k=10\n",
        "\n",
        "#selecting random samples\n",
        "test_sample=random.sample(list(x_test),k)\n",
        "\n",
        "plt.figure(figsize=(20, 4))\n",
        "for i in range(1, k + 1):\n",
        "    # Display original\n",
        "    ax = plt.subplot(2, k, i)\n",
        "    plt.imshow(test_sample[i-1].reshape(28, 28))\n",
        "    plt.gray()\n",
        "    ax.get_xaxis().set_visible(False)\n",
        "    ax.get_yaxis().set_visible(False)\n",
        "plt.show()"
      ],
      "execution_count": null,
      "outputs": [
        {
          "output_type": "display_data",
          "data": {
            "image/png": "[encoded data removed]",
            "text/plain": [
              "<Figure size 1440x288 with 10 Axes>"
            ]
          },
          "metadata": {
            "needs_background": "light"
          }
        }
      ]
    },
    {
      "cell_type": "code",
      "metadata": {
        "colab": {
          "base_uri": "https://localhost:8080/"
        },
        "id": "1cUMRHcNxe3c",
        "outputId": "a88a6b91-3302-4ad8-b158-355be5e394ea"
      },
      "source": [
        "encoder.summary()"
      ],
      "execution_count": null,
      "outputs": [
        {
          "output_type": "stream",
          "name": "stdout",
          "text": [
            "Model: \"model_6\"\n",
            "_________________________________________________________________\n",
            " Layer (type)                Output Shape              Param #   \n",
            "=================================================================\n",
            " input_1 (InputLayer)        [(None, 28, 28, 1)]       0         \n",
            "                                                                 \n",
            " conv2d (Conv2D)             (None, 28, 28, 16)        160       \n",
            "                                                                 \n",
            " max_pooling2d (MaxPooling2D  (None, 14, 14, 16)       0         \n",
            " )                                                               \n",
            "                                                                 \n",
            " conv2d_1 (Conv2D)           (None, 14, 14, 8)         1160      \n",
            "                                                                 \n",
            " max_pooling2d_1 (MaxPooling  (None, 7, 7, 8)          0         \n",
            " 2D)                                                             \n",
            "                                                                 \n",
            " conv2d_2 (Conv2D)           (None, 7, 7, 8)           584       \n",
            "                                                                 \n",
            " max_pooling2d_2 (MaxPooling  (None, 4, 4, 8)          0         \n",
            " 2D)                                                             \n",
            "                                                                 \n",
            "=================================================================\n",
            "Total params: 1,904\n",
            "Trainable params: 1,904\n",
            "Non-trainable params: 0\n",
            "_________________________________________________________________\n"
          ]
        }
      ]
    },
    {
      "cell_type": "code",
      "metadata": {
        "colab": {
          "base_uri": "https://localhost:8080/",
          "height": 129
        },
        "id": "bfdYA5QTxDrX",
        "outputId": "c601ce15-951e-446b-b221-b82d9f2b5cd0"
      },
      "source": [
        "sample_encoded_imgs=encoder.predict(np.array(test_sample))\n",
        "plt.figure(figsize=(20, 8))\n",
        "for i in range(1, k + 1):\n",
        "    ax = plt.subplot(1, k, i)\n",
        "    plt.imshow(encoded_imgs[i,:,:,4].reshape((4 , 4)))\n",
        "    plt.gray()\n",
        "    ax.get_xaxis().set_visible(False)\n",
        "    ax.get_yaxis().set_visible(False)\n",
        "plt.show()"
      ],
      "execution_count": null,
      "outputs": [
        {
          "output_type": "display_data",
          "data": {
            "image/png": "[encoded data removed]",
            "text/plain": [
              "<Figure size 1440x576 with 10 Axes>"
            ]
          },
          "metadata": {
            "needs_background": "light"
          }
        }
      ]
    },
    {
      "cell_type": "code",
      "metadata": {
        "colab": {
          "base_uri": "https://localhost:8080/",
          "height": 642
        },
        "id": "46MUn0Odtptc",
        "outputId": "f662c901-d311-436e-b673-34755ec38301"
      },
      "source": [
        "sample_encoded_imgs_shape = keras.Input(shape=(4,4,8))\n",
        "\n",
        "decoder3 = autoencoder.layers[-7](sample_encoded_imgs_shape)\n",
        "decoder3 = autoencoder.layers[-6](decoder3)\n",
        "decoder3 = autoencoder.layers[-5](decoder3)\n",
        "decoder3 = autoencoder.layers[-4](decoder3)\n",
        "decoder3 = autoencoder.layers[-3](decoder3)\n",
        "decoder3 = autoencoder.layers[-2](decoder3)\n",
        "decoded2 = autoencoder.layers[-1](decoder3)\n",
        "\n",
        "Deco=keras.Model(sample_encoded_imgs_shape,decoded2)\n",
        "print(decoder3)\n",
        "\n",
        "sample_decoded_imgs=Deco.predict(sample_encoded_imgs)\n",
        "\n",
        "plt.figure(figsize=(20, 4))\n",
        "for i in range(1, k ):\n",
        "    ax = plt.subplot(2, k, i + k)\n",
        "    plt.imshow(sample_decoded_imgs[i].reshape(28, 28))\n",
        "    plt.gray()\n",
        "    ax.get_xaxis().set_visible(False)\n",
        "    ax.get_yaxis().set_visible(False)\n",
        "plt.show()\n",
        "\n",
        "Deco.summary()"
      ],
      "execution_count": null,
      "outputs": [
        {
          "output_type": "stream",
          "name": "stdout",
          "text": [
            "KerasTensor(type_spec=TensorSpec(shape=(None, 28, 28, 16), dtype=tf.float32, name=None), name='up_sampling2d_2/resize/ResizeNearestNeighbor:0', description=\"created by layer 'up_sampling2d_2'\")\n"
          ]
        },
        {
          "output_type": "display_data",
          "data": {
            "image/png": "[encoded data removed]",
            "text/plain": [
              "<Figure size 1440x288 with 9 Axes>"
            ]
          },
          "metadata": {
            "needs_background": "light"
          }
        },
        {
          "output_type": "stream",
          "name": "stdout",
          "text": [
            "Model: \"model_7\"\n",
            "_________________________________________________________________\n",
            " Layer (type)                Output Shape              Param #   \n",
            "=================================================================\n",
            " input_7 (InputLayer)        [(None, 4, 4, 8)]         0         \n",
            "                                                                 \n",
            " conv2d_3 (Conv2D)           (None, 4, 4, 8)           584       \n",
            "                                                                 \n",
            " up_sampling2d (UpSampling2D  (None, 8, 8, 8)          0         \n",
            " )                                                               \n",
            "                                                                 \n",
            " conv2d_4 (Conv2D)           (None, 8, 8, 8)           584       \n",
            "                                                                 \n",
            " up_sampling2d_1 (UpSampling  (None, 16, 16, 8)        0         \n",
            " 2D)                                                             \n",
            "                                                                 \n",
            " conv2d_5 (Conv2D)           (None, 14, 14, 16)        1168      \n",
            "                                                                 \n",
            " up_sampling2d_2 (UpSampling  (None, 28, 28, 16)       0         \n",
            " 2D)                                                             \n",
            "                                                                 \n",
            " conv2d_6 (Conv2D)           (None, 28, 28, 1)         145       \n",
            "                                                                 \n",
            "=================================================================\n",
            "Total params: 2,481\n",
            "Trainable params: 2,481\n",
            "Non-trainable params: 0\n",
            "_________________________________________________________________\n"
          ]
        }
      ]
    }
  ]
}